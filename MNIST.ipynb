{
 "cells": [
  {
   "cell_type": "markdown",
   "metadata": {},
   "source": [
    "### These files are not in any standard image format. You have to write your own (very simple) program to read them."
   ]
  },
  {
   "cell_type": "code",
   "execution_count": 3,
   "metadata": {
    "collapsed": false
   },
   "outputs": [],
   "source": [
    "from __future__ import absolute_import\n",
    "from __future__ import division\n",
    "from __future__ import print_function\n",
    "\n",
    "import gzip\n",
    "import os\n",
    "import tempfile"
   ]
  },
  {
   "cell_type": "code",
   "execution_count": 4,
   "metadata": {
    "collapsed": true
   },
   "outputs": [],
   "source": [
    "import numpy as np\n",
    "import tensorflow as tf\n",
    "from six.moves import urllib\n",
    "from six.moves import xrange\n",
    "from tensorflow.contrib.learn.python.learn.datasets.mnist import read_data_sets"
   ]
  },
  {
   "cell_type": "code",
   "execution_count": 5,
   "metadata": {
    "collapsed": false
   },
   "outputs": [
    {
     "name": "stdout",
     "output_type": "stream",
     "text": [
      "Extracting data\\train-images-idx3-ubyte.gz\n",
      "Extracting data\\train-labels-idx1-ubyte.gz\n",
      "Extracting data\\t10k-images-idx3-ubyte.gz\n",
      "Extracting data\\t10k-labels-idx1-ubyte.gz\n"
     ]
    }
   ],
   "source": [
    "mnist = read_data_sets('data',one_hot = True)"
   ]
  },
  {
   "cell_type": "code",
   "execution_count": 5,
   "metadata": {
    "collapsed": false
   },
   "outputs": [
    {
     "data": {
      "text/plain": [
       "Datasets(train=<tensorflow.contrib.learn.python.learn.datasets.mnist.DataSet object at 0x0000000006021668>, validation=<tensorflow.contrib.learn.python.learn.datasets.mnist.DataSet object at 0x000000000ACA4588>, test=<tensorflow.contrib.learn.python.learn.datasets.mnist.DataSet object at 0x00000000052B7588>)"
      ]
     },
     "execution_count": 5,
     "metadata": {},
     "output_type": "execute_result"
    }
   ],
   "source": [
    "mnist"
   ]
  },
  {
   "cell_type": "code",
   "execution_count": 16,
   "metadata": {
    "collapsed": false
   },
   "outputs": [],
   "source": [
    "#Session是与C++的连接，而计算图存在于Session中\n",
    "sess = tf.InteractiveSession()"
   ]
  },
  {
   "cell_type": "markdown",
   "metadata": {},
   "source": [
    "### 矩阵乘法等耗时操作，在Python环境外来计算，Python的作用，就是**构建可以在外部运行的计算图**"
   ]
  },
  {
   "cell_type": "code",
   "execution_count": 6,
   "metadata": {
    "collapsed": true
   },
   "outputs": [],
   "source": [
    "#占位符：在TensorFlow运行某一计算时，根据该占位符输入具体值\n",
    "#None指batch，784指x的dimension\n",
    "x = tf.placeholder(tf.float32,shape = [None,784])\n",
    "y_ = tf.placeholder(tf.float32,shape = [None,10])\n",
    "#模型参数一般用Variable来表示\n",
    "W = tf.Variable(tf.zeros([784,10]))\n",
    "b = tf.Variable(tf.zeros([10]))\n",
    "y = tf.nn.softmax(tf.matmul(x, W) + b)"
   ]
  },
  {
   "cell_type": "code",
   "execution_count": 16,
   "metadata": {
    "collapsed": false
   },
   "outputs": [
    {
     "name": "stdout",
     "output_type": "stream",
     "text": [
      "WARNING:tensorflow:From <ipython-input-16-4b196de59487>:2: initialize_all_variables (from tensorflow.python.ops.variables) is deprecated and will be removed after 2017-03-02.\n",
      "Instructions for updating:\n",
      "Use `tf.global_variables_initializer` instead.\n"
     ]
    }
   ],
   "source": [
    "#Variable需要在session初始化后，才能在session中使用。\n",
    "sess.run(tf.initialize_all_variables())"
   ]
  },
  {
   "cell_type": "code",
   "execution_count": 17,
   "metadata": {
    "collapsed": false
   },
   "outputs": [],
   "source": [
    "#交叉熵：衡量目标和预测误差的一种方法，即损失函数\n",
    "cross_entropy = -tf.reduce_sum(y_*tf.log(y))"
   ]
  },
  {
   "cell_type": "code",
   "execution_count": 18,
   "metadata": {
    "collapsed": true
   },
   "outputs": [],
   "source": [
    "#往计算图添加个新操作（包括，计算梯度，计算步长变化，更新参数）\n",
    "train_step = tf.train.GradientDescentOptimizer(0.01).minimize(cross_entropy)"
   ]
  },
  {
   "cell_type": "code",
   "execution_count": 19,
   "metadata": {
    "collapsed": false
   },
   "outputs": [],
   "source": [
    "#50报错,是因为在input_data时没有加one-hot,所以batch_y显示的为1到9的数值。\n",
    "for i in range(1000):\n",
    "    batch_x, batch_y = mnist.train.next_batch(100)\n",
    "    train_step.run(feed_dict={x:batch_x,y_:batch_y})"
   ]
  },
  {
   "cell_type": "code",
   "execution_count": 20,
   "metadata": {
    "collapsed": false
   },
   "outputs": [],
   "source": [
    "correct_prediction = tf.equal(tf.argmax(y,1), tf.argmax(y_,1))"
   ]
  },
  {
   "cell_type": "code",
   "execution_count": 21,
   "metadata": {
    "collapsed": false
   },
   "outputs": [],
   "source": [
    "accuracy = tf.reduce_mean(tf.cast(correct_prediction, 'float'))"
   ]
  },
  {
   "cell_type": "code",
   "execution_count": 22,
   "metadata": {
    "collapsed": false
   },
   "outputs": [
    {
     "name": "stdout",
     "output_type": "stream",
     "text": [
      "0.9047\n"
     ]
    }
   ],
   "source": [
    "print(accuracy.eval(feed_dict={x: mnist.test.images, y_: mnist.test.labels}))"
   ]
  },
  {
   "cell_type": "markdown",
   "metadata": {},
   "source": [
    "## 多层卷积神经网络"
   ]
  },
  {
   "cell_type": "code",
   "execution_count": 7,
   "metadata": {
    "collapsed": true
   },
   "outputs": [],
   "source": [
    "#Initialized\n",
    "def weight_variable(shape):\n",
    "    #权重在初始化时加入少量噪声stddev = 0.1以打破对称性，避免0梯度\n",
    "    initial = tf.truncated_normal(shape,stddev= 0.1)\n",
    "    return tf.Variable(initial)\n",
    "\n",
    "def bias_variable(shape):\n",
    "    #用较小正数0.1来初始化bias，避免出现dead neurons\n",
    "    initial = tf.constant(0.1, shape =shape)\n",
    "    return tf.Variable(initial)"
   ]
  },
  {
   "cell_type": "code",
   "execution_count": 8,
   "metadata": {
    "collapsed": true
   },
   "outputs": [],
   "source": [
    "#定义CONV和Max_pool\n",
    "def conv2d(x, W):\n",
    "    return tf.nn.conv2d(x, W, strides= [1,1,1,1], padding= 'SAME')\n",
    "\n",
    "def max_pool_2x2(x):\n",
    "    return tf.nn.max_pool(x, ksize= [1,2,2,1],strides = [1,2,2,1],padding='SAME')"
   ]
  },
  {
   "cell_type": "code",
   "execution_count": 9,
   "metadata": {
    "collapsed": true
   },
   "outputs": [],
   "source": [
    "#-1意思是数量未知\n",
    "x_image = tf.reshape(x, [-1,28,28,1])"
   ]
  },
  {
   "cell_type": "code",
   "execution_count": 10,
   "metadata": {
    "collapsed": true
   },
   "outputs": [],
   "source": [
    "W_conv1 = weight_variable([5,5,1,32])\n",
    "b_conv1 = bias_variable([32])\n",
    "\n",
    "h_conv1 = tf.nn.relu(conv2d(x_image, W_conv1) + b_conv1)\n",
    "h_pool1 = max_pool_2x2(h_conv1)"
   ]
  },
  {
   "cell_type": "code",
   "execution_count": 11,
   "metadata": {
    "collapsed": false
   },
   "outputs": [],
   "source": [
    "W_conv2 = weight_variable([5,5,32,64])\n",
    "b_conv2 = bias_variable([64])\n",
    "\n",
    "h_conv2 = tf.nn.relu(conv2d(h_pool1, W_conv2) + b_conv2)\n",
    "h_pool2 = max_pool_2x2(h_conv2)"
   ]
  },
  {
   "cell_type": "code",
   "execution_count": 12,
   "metadata": {
    "collapsed": false
   },
   "outputs": [],
   "source": [
    "w_fc1 = weight_variable([7 * 7 * 64, 1024])\n",
    "b_fc1 = bias_variable([1024])\n",
    "\n",
    "h_pool2_flat = tf.reshape(h_pool2, [-1, 7 * 7 * 64])\n",
    "#使用计算是tf.matmul而不是tf.conv2d\n",
    "h_fc1 = tf.nn.relu(tf.matmul(h_pool2_flat, w_fc1) + b_fc1)"
   ]
  },
  {
   "cell_type": "code",
   "execution_count": 13,
   "metadata": {
    "collapsed": false
   },
   "outputs": [],
   "source": [
    "keep_prob = tf.placeholder(\"float\")\n",
    "h_fc1_drop = tf.nn.dropout(h_fc1, keep_prob)"
   ]
  },
  {
   "cell_type": "code",
   "execution_count": 14,
   "metadata": {
    "collapsed": false
   },
   "outputs": [],
   "source": [
    "w_fc2 = weight_variable([1024,10])\n",
    "b_fc2 = bias_variable([10])\n",
    "\n",
    "y_conv = tf.nn.softmax(tf.matmul(h_fc1_drop, w_fc2) + b_fc2)"
   ]
  },
  {
   "cell_type": "code",
   "execution_count": 17,
   "metadata": {
    "collapsed": false
   },
   "outputs": [],
   "source": [
    "cross_entroy = -tf.reduce_sum(y_ * tf.log(y_conv))\n",
    "train_step = tf.train.AdamOptimizer(1e-4).minimize(cross_entroy)\n",
    "correct_prediction = tf.equal(tf.argmax(y_conv, 1), tf.argmax(y_, 1))\n",
    "accuracy = tf.reduce_mean(tf.cast(correct_prediction, 'float'))\n",
    "sess.run(tf.global_variables_initializer())"
   ]
  },
  {
   "cell_type": "code",
   "execution_count": 54,
   "metadata": {
    "collapsed": false
   },
   "outputs": [
    {
     "name": "stdout",
     "output_type": "stream",
     "text": [
      "step 0,training accuracy is 0.96\n",
      "step 100,training accuracy is 0.96\n",
      "step 200,training accuracy is 1\n",
      "step 300,training accuracy is 0.98\n",
      "step 400,training accuracy is 0.98\n",
      "step 500,training accuracy is 0.98\n",
      "step 600,training accuracy is 0.94\n",
      "step 700,training accuracy is 1\n",
      "step 800,training accuracy is 0.98\n",
      "step 900,training accuracy is 1\n",
      "step 1000,training accuracy is 0.96\n",
      "step 1100,training accuracy is 0.98\n",
      "step 1200,training accuracy is 0.96\n",
      "step 1300,training accuracy is 1\n",
      "step 1400,training accuracy is 1\n",
      "step 1500,training accuracy is 0.98\n",
      "step 1600,training accuracy is 0.96\n",
      "step 1700,training accuracy is 0.98\n",
      "step 1800,training accuracy is 1\n",
      "step 1900,training accuracy is 1\n",
      "step 2000,training accuracy is 1\n",
      "step 2100,training accuracy is 0.98\n",
      "step 2200,training accuracy is 0.98\n",
      "step 2300,training accuracy is 0.98\n",
      "step 2400,training accuracy is 0.98\n",
      "step 2500,training accuracy is 0.98\n",
      "step 2600,training accuracy is 1\n",
      "step 2700,training accuracy is 1\n",
      "step 2800,training accuracy is 0.98\n",
      "step 2900,training accuracy is 1\n",
      "step 3000,training accuracy is 0.98\n",
      "step 3100,training accuracy is 0.98\n",
      "step 3200,training accuracy is 0.98\n",
      "step 3300,training accuracy is 1\n",
      "step 3400,training accuracy is 0.98\n",
      "step 3500,training accuracy is 1\n",
      "step 3600,training accuracy is 0.98\n",
      "step 3700,training accuracy is 0.98\n",
      "step 3800,training accuracy is 0.98\n",
      "step 3900,training accuracy is 1\n",
      "step 4000,training accuracy is 1\n",
      "step 4100,training accuracy is 1\n",
      "step 4200,training accuracy is 0.98\n",
      "step 4300,training accuracy is 1\n",
      "step 4400,training accuracy is 1\n",
      "step 4500,training accuracy is 1\n",
      "step 4600,training accuracy is 0.96\n",
      "step 4700,training accuracy is 0.98\n",
      "step 4800,training accuracy is 1\n",
      "step 4900,training accuracy is 0.98\n"
     ]
    }
   ],
   "source": [
    "for i in range(5000):\n",
    "    batch = mnist.train.next_batch(50)\n",
    "    if i%100 == 0:\n",
    "        train_accuracy = accuracy.eval(feed_dict={x:batch[0], y_:batch[1],keep_prob:1.0})\n",
    "        #%g是什么,为什么还是y_\n",
    "        print('step %d,training accuracy is %g'%(i,train_accuracy))\n",
    "        \n",
    "    train_step.run(feed_dict={x:batch[0], y_:batch[1], keep_prob:0.5})\n",
    "    \n"
   ]
  },
  {
   "cell_type": "code",
   "execution_count": 55,
   "metadata": {
    "collapsed": false
   },
   "outputs": [],
   "source": [
    "#电脑算力不够，只能测试3500个样本\n",
    "test_accuracy = accuracy.eval(feed_dict={x: mnist.test.images[:3500,:], y_: mnist.test.labels[:3500,:], keep_prob: 1.0})"
   ]
  },
  {
   "cell_type": "code",
   "execution_count": 56,
   "metadata": {
    "collapsed": false
   },
   "outputs": [
    {
     "name": "stdout",
     "output_type": "stream",
     "text": [
      "test_accuracy is 0.984286\n"
     ]
    }
   ],
   "source": [
    "print('test_accuracy is %g'% test_accuracy)"
   ]
  },
  {
   "cell_type": "code",
   "execution_count": null,
   "metadata": {
    "collapsed": true
   },
   "outputs": [],
   "source": []
  }
 ],
 "metadata": {
  "anaconda-cloud": {},
  "kernelspec": {
   "display_name": "Python [conda root]",
   "language": "python",
   "name": "conda-root-py"
  },
  "language_info": {
   "codemirror_mode": {
    "name": "ipython",
    "version": 3
   },
   "file_extension": ".py",
   "mimetype": "text/x-python",
   "name": "python",
   "nbconvert_exporter": "python",
   "pygments_lexer": "ipython3",
   "version": "3.5.2"
  }
 },
 "nbformat": 4,
 "nbformat_minor": 1
}
