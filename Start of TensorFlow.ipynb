{
 "cells": [
  {
   "cell_type": "code",
   "execution_count": 23,
   "metadata": {
    "collapsed": false
   },
   "outputs": [],
   "source": [
    "import tensorflow as tf\n",
    "import numpy as np\n",
    "import warnings\n",
    "\n",
    "warnings.filterwarnings('ignore')"
   ]
  },
  {
   "cell_type": "code",
   "execution_count": 2,
   "metadata": {
    "collapsed": true
   },
   "outputs": [],
   "source": [
    "#Phony data\n",
    "#The shape of x_data is[2,100]\n",
    "x_data = np.float32(np.random.randn(2,100))\n",
    "y_data = np.dot([0.100,0.200],x_data) + 0.300"
   ]
  },
  {
   "cell_type": "code",
   "execution_count": 9,
   "metadata": {
    "collapsed": false
   },
   "outputs": [],
   "source": [
    "#Buliding up a linear model\n",
    "b = tf.Variable(tf.zeros([1]))\n",
    "#The shape of W is [1,2],minmum = -1.0,maximum = 1.0\n",
    "W = tf.Variable(tf.random_uniform([1,2],-1.0,1.0))\n",
    "#The shape of y is [1,100]\n",
    "y = tf.matmul(W,x_data) + b"
   ]
  },
  {
   "cell_type": "code",
   "execution_count": 15,
   "metadata": {
    "collapsed": false
   },
   "outputs": [],
   "source": [
    "#Minimize the Variance\n",
    "loss = tf.reduce_mean(tf.square(y - y_data))\n",
    "#Optimizer that implements the gradient descent algorithm.\n",
    "#The learning rate is 0.5\n",
    "optimizer = tf.train.GradientDescentOptimizer(0.5)\n",
    "train = optimizer.minimize(loss)"
   ]
  },
  {
   "cell_type": "code",
   "execution_count": 26,
   "metadata": {
    "collapsed": false
   },
   "outputs": [],
   "source": [
    "#Initializing the variable\n",
    "init = tf.global_variables_initializer()"
   ]
  },
  {
   "cell_type": "code",
   "execution_count": 27,
   "metadata": {
    "collapsed": true
   },
   "outputs": [],
   "source": [
    "#Graph\n",
    "sess = tf.Session()\n",
    "sess.run(init)"
   ]
  },
  {
   "cell_type": "markdown",
   "metadata": {},
   "source": [
    "### As a result, we can see that the best fitting parameters are W:[[0.1, 0.2]] b:[0.30]"
   ]
  },
  {
   "cell_type": "code",
   "execution_count": 29,
   "metadata": {
    "collapsed": false
   },
   "outputs": [
    {
     "name": "stdout",
     "output_type": "stream",
     "text": [
      "0 [[ 0.10366464  0.04407966]] [ 0.25521427]\n",
      "20 [[ 0.1  0.2]] [ 0.30000001]\n",
      "40 [[ 0.1  0.2]] [ 0.30000001]\n",
      "60 [[ 0.1  0.2]] [ 0.30000001]\n",
      "80 [[ 0.1  0.2]] [ 0.30000001]\n",
      "100 [[ 0.1  0.2]] [ 0.30000001]\n",
      "120 [[ 0.1  0.2]] [ 0.30000001]\n",
      "140 [[ 0.1  0.2]] [ 0.30000001]\n",
      "160 [[ 0.1  0.2]] [ 0.30000001]\n",
      "180 [[ 0.1  0.2]] [ 0.30000001]\n",
      "200 [[ 0.1  0.2]] [ 0.30000001]\n"
     ]
    }
   ],
   "source": [
    "#fitting Plane\n",
    "for step in np.arange(0,201):\n",
    "    sess.run(train)\n",
    "    if step % 20 == 0:\n",
    "        print(step, sess.run(W), sess.run(b))"
   ]
  },
  {
   "cell_type": "code",
   "execution_count": null,
   "metadata": {
    "collapsed": true
   },
   "outputs": [],
   "source": []
  }
 ],
 "metadata": {
  "anaconda-cloud": {},
  "kernelspec": {
   "display_name": "Python [conda root]",
   "language": "python",
   "name": "conda-root-py"
  },
  "language_info": {
   "codemirror_mode": {
    "name": "ipython",
    "version": 3
   },
   "file_extension": ".py",
   "mimetype": "text/x-python",
   "name": "python",
   "nbconvert_exporter": "python",
   "pygments_lexer": "ipython3",
   "version": "3.5.2"
  }
 },
 "nbformat": 4,
 "nbformat_minor": 1
}
